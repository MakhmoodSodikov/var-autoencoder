{
  "nbformat": 4,
  "nbformat_minor": 0,
  "metadata": {
    "colab": {
      "name": "VAE on MNIST.ipynb",
      "provenance": []
    },
    "kernelspec": {
      "name": "python3",
      "display_name": "Python 3"
    }
  },
  "cells": [
    {
      "cell_type": "markdown",
      "metadata": {
        "id": "kypSpHnKmlnR",
        "colab_type": "text"
      },
      "source": [
        "**Variational Auto Encoder trained on MNIST using Tensorflow.**\n",
        "\n",
        "*by Sodikov Makhmood. MIPT DIHT 2019.*"
      ]
    },
    {
      "cell_type": "code",
      "metadata": {
        "id": "R1iCXWJFleD6",
        "colab_type": "code",
        "outputId": "dcd499fd-8b20-4457-dc88-d95955e5e485",
        "colab": {
          "base_uri": "https://localhost:8080/",
          "height": 87
        }
      },
      "source": [
        "!pip install imageio"
      ],
      "execution_count": 2,
      "outputs": [
        {
          "output_type": "stream",
          "text": [
            "Requirement already satisfied: imageio in /usr/local/lib/python3.6/dist-packages (2.4.1)\n",
            "Requirement already satisfied: pillow in /usr/local/lib/python3.6/dist-packages (from imageio) (4.3.0)\n",
            "Requirement already satisfied: numpy in /usr/local/lib/python3.6/dist-packages (from imageio) (1.17.4)\n",
            "Requirement already satisfied: olefile in /usr/local/lib/python3.6/dist-packages (from pillow->imageio) (0.46)\n"
          ],
          "name": "stdout"
        }
      ]
    },
    {
      "cell_type": "code",
      "metadata": {
        "id": "EHzkqxSzli-N",
        "colab_type": "code",
        "colab": {}
      },
      "source": [
        "from __future__ import absolute_import, division, print_function, unicode_literals\n",
        "\n",
        "try:\n",
        "  # %tensorflow_version only exists in Colab.\n",
        "  %tensorflow_version 2.x\n",
        "except Exception:\n",
        "  pass\n",
        "import tensorflow as tf\n",
        "\n",
        "import os\n",
        "import time\n",
        "import numpy as np\n",
        "import glob\n",
        "import matplotlib.pyplot as plt\n",
        "import PIL\n",
        "import imageio\n",
        "import numpy as np\n",
        "import pandas as pd\n",
        "from IPython import display"
      ],
      "execution_count": 0,
      "outputs": []
    },
    {
      "cell_type": "markdown",
      "metadata": {
        "id": "GPwSe65qmxKf",
        "colab_type": "text"
      },
      "source": [
        "I am going to implement a basic VAE (Variational Autoencoder) model on Tensorflow, trained on MNIST dataset. "
      ]
    },
    {
      "cell_type": "code",
      "metadata": {
        "id": "8RUhq7J5lnz2",
        "colab_type": "code",
        "outputId": "67fdf693-52a6-437d-822b-86c26cdf06a0",
        "colab": {
          "base_uri": "https://localhost:8080/",
          "height": 52
        }
      },
      "source": [
        "(train_images, _), (test_images, _) = tf.keras.datasets.mnist.load_data()"
      ],
      "execution_count": 4,
      "outputs": [
        {
          "output_type": "stream",
          "text": [
            "Downloading data from https://storage.googleapis.com/tensorflow/tf-keras-datasets/mnist.npz\n",
            "11493376/11490434 [==============================] - 0s 0us/step\n"
          ],
          "name": "stdout"
        }
      ]
    },
    {
      "cell_type": "markdown",
      "metadata": {
        "id": "Am9uEOoYm2d6",
        "colab_type": "text"
      },
      "source": [
        "Now we will normalize and reshape our images.\n",
        "Each cell contains one number, which describes darkness of current pixel, so every cell is in [0,255]. Hence, we will normalize every pixel to 255."
      ]
    },
    {
      "cell_type": "code",
      "metadata": {
        "id": "oTfKBWP-lrdZ",
        "colab_type": "code",
        "colab": {}
      },
      "source": [
        "train_images = train_images.reshape(train_images.shape[0], 28, 28, 1).astype('float32')\n",
        "test_images = test_images.reshape(test_images.shape[0], 28, 28, 1).astype('float32')\n",
        "\n",
        "# Normalizing the images to the range of [0., 1.]\n",
        "train_images /= 255.\n",
        "test_images /= 255.\n",
        "\n",
        "# Binarization\n",
        "train_images[train_images >= .5] = 1.\n",
        "train_images[train_images < .5] = 0.\n",
        "test_images[test_images >= .5] = 1.\n",
        "test_images[test_images < .5] = 0."
      ],
      "execution_count": 0,
      "outputs": []
    },
    {
      "cell_type": "code",
      "metadata": {
        "id": "JxrvSrb05yye",
        "colab_type": "code",
        "colab": {
          "base_uri": "https://localhost:8080/",
          "height": 300
        },
        "outputId": "f87e9bbe-be2e-47ab-a27a-be851b773aae"
      },
      "source": [
        "def show_num(arr):\n",
        "    img = arr.reshape((28,28))\n",
        "    plt.imshow(img, cmap=\"Greys\")\n",
        "    plt.show()\n",
        "print(0)\n",
        "\n",
        "\n",
        "# testing \n",
        "show_num(tf.keras.datasets.mnist.load_data()[0][0][2])\n",
        "print(tf.keras.datasets.mnist.load_data()[0][1][2])"
      ],
      "execution_count": 6,
      "outputs": [
        {
          "output_type": "stream",
          "text": [
            "0\n"
          ],
          "name": "stdout"
        },
        {
          "output_type": "display_data",
          "data": {
            "image/png": "[encoded data removed]",
            "text/plain": [
              "<Figure size 432x288 with 1 Axes>"
            ]
          },
          "metadata": {
            "tags": []
          }
        },
        {
          "output_type": "stream",
          "text": [
            "4\n"
          ],
          "name": "stdout"
        }
      ]
    },
    {
      "cell_type": "markdown",
      "metadata": {
        "id": "qQ3YqqSC0e7a",
        "colab_type": "text"
      },
      "source": [
        "Let's divide our dataset to train and test sets. \n",
        "\n",
        "So, we will train on 60k examples vs 10k we use to test."
      ]
    },
    {
      "cell_type": "code",
      "metadata": {
        "id": "JVpt9v1KlvmM",
        "colab_type": "code",
        "colab": {}
      },
      "source": [
        "TRAIN_BUF = 60000\n",
        "BATCH_SIZE = 100\n",
        "\n",
        "TEST_BUF = 10000"
      ],
      "execution_count": 0,
      "outputs": []
    },
    {
      "cell_type": "markdown",
      "metadata": {
        "id": "IbtJcyCXm949",
        "colab_type": "text"
      },
      "source": [
        "Let  and  denote the observation $x$ and latent variable $z$ respectively in the following descriptions. We use Keras.Sequential, because the architecture of our NN is pretty simple (on MNIST).\n",
        "\n",
        "Let's shuffle our data and divide to batches, each from 100 tensors.\n"
      ]
    },
    {
      "cell_type": "code",
      "metadata": {
        "id": "s-iOEO_dlx9s",
        "colab_type": "code",
        "colab": {}
      },
      "source": [
        "train_dataset = tf.data.Dataset.from_tensor_slices(train_images).shuffle(TRAIN_BUF).batch(BATCH_SIZE)\n",
        "test_dataset = tf.data.Dataset.from_tensor_slices(test_images).shuffle(TEST_BUF).batch(BATCH_SIZE)"
      ],
      "execution_count": 0,
      "outputs": []
    },
    {
      "cell_type": "markdown",
      "metadata": {
        "id": "vH3JFxwF1U3P",
        "colab_type": "text"
      },
      "source": [
        "Our neural net will be divided to two independent layers -- decoder and encoder.\n",
        "\n",
        "Encoder will have the following architecture: \n",
        "\n",
        "* Input layer, that takes one image (matrix) of 28x28 dimension (or 28x28x1 tensor -- classical dim for picture from MNIST)\n",
        "\n",
        "* Two convolutional layers -- каждый из которых имеет фильтры размеров 32 и 64 (перевести)\n",
        "\n",
        "* Flatten layers and fully connected dense layer for summarizing all values from others to give the inference\n",
        "\n",
        "------\n",
        "\n",
        "Decoder layer consist of:\n",
        "\n",
        "* Input layer (latent_dim)\n",
        "\n",
        "* Dense layer of shape 7x7x32 with ReLU activation function\n",
        "\n",
        "* Reshape layer which connected with 2 stacked DEconv layers that will resize to the original image size\n",
        "\n",
        "-------\n",
        "\n",
        "We also have encoder and decoder function. First one splits our inference vector to two others: mean and logvar. \n",
        "\n",
        "Then we will sample new random vector from Norm(mean, logvar) and decode it to get new image. "
      ]
    },
    {
      "cell_type": "code",
      "metadata": {
        "id": "n0JNiGP-l3b5",
        "colab_type": "code",
        "colab": {}
      },
      "source": [
        "class VAE(tf.keras.Model):\n",
        "\n",
        "  def __init__(self, latent_dim):\n",
        "    super(VAE, self).__init__()\n",
        "    self.latent_dim = latent_dim\n",
        "\n",
        "    # Decoder Net\n",
        "    self.inference_net = tf.keras.Sequential(\n",
        "      [\n",
        "          tf.keras.layers.InputLayer(input_shape=(28, 28, 1)),\n",
        "          tf.keras.layers.Conv2D(\n",
        "              filters=32, kernel_size=3, strides=(2, 2), activation='relu'),\n",
        "          tf.keras.layers.Conv2D(\n",
        "              filters=64, kernel_size=3, strides=(2, 2), activation='relu'),\n",
        "          tf.keras.layers.Flatten(),\n",
        "          # No activation\n",
        "          tf.keras.layers.Dense(latent_dim + latent_dim),\n",
        "          # Getting 2 vectors, each of latent_dim size \n",
        "      ]\n",
        "    )\n",
        "\n",
        "    # Encoder Net\n",
        "    self.generative_net = tf.keras.Sequential(\n",
        "        [\n",
        "          tf.keras.layers.InputLayer(input_shape=(latent_dim,)),\n",
        "          tf.keras.layers.Dense(units=7*7*32, activation=tf.nn.relu),\n",
        "          tf.keras.layers.Reshape(target_shape=(7, 7, 32)),\n",
        "          tf.keras.layers.Conv2DTranspose(\n",
        "              filters=64,\n",
        "              kernel_size=3,\n",
        "              strides=(2, 2),\n",
        "              padding=\"SAME\",\n",
        "              activation='relu'),\n",
        "          tf.keras.layers.Conv2DTranspose(\n",
        "              filters=32,\n",
        "              kernel_size=3,\n",
        "              strides=(2, 2),\n",
        "              padding=\"SAME\",\n",
        "              activation='relu'),\n",
        "          # No activation\n",
        "          tf.keras.layers.Conv2DTranspose(\n",
        "              filters=1, kernel_size=3, strides=(1, 1), padding=\"SAME\"),\n",
        "        ]\n",
        "    )\n",
        " \n",
        "  @tf.function\n",
        "  def sample(self, eps=None):\n",
        "    # getting samples from norm () and decoding it\n",
        "    if eps is None:\n",
        "      eps = tf.random.normal(shape=(100, self.latent_dim))\n",
        "    return self.decode(eps, apply_sigmoid=True)\n",
        "\n",
        "  def encode(self, x):\n",
        "    # tf.split() splits a tensor into sub tensors.\n",
        "    # so we will split our vector of 2*latent_dim size to mean (expectation) and\n",
        "    # logvar (sigma) of norm(mean, sigm)\n",
        "\n",
        "    mean, logvar = tf.split(self.inference_net(x), num_or_size_splits=2, axis=1)\n",
        "    return mean, logvar\n",
        "\n",
        "  def reparameterize(self, mean, logvar):\n",
        "    # Reparametrization trick to improve \n",
        "    eps = tf.random.normal(shape=mean.shape)\n",
        "    return eps * tf.exp(logvar * .5) + mean\n",
        "\n",
        "  # decoder returns logits with sigmoid cross entropy (if parameter called)\n",
        "  # or without it  \n",
        "  def decode(self, z, apply_sigmoid=False):\n",
        "    logits = self.generative_net(z)\n",
        "    if apply_sigmoid:\n",
        "      probs = tf.sigmoid(logits)\n",
        "      return probs\n",
        "\n",
        "    return logits"
      ],
      "execution_count": 0,
      "outputs": []
    },
    {
      "cell_type": "markdown",
      "metadata": {
        "id": "YSH_zem5oNSO",
        "colab_type": "text"
      },
      "source": [
        "Here we set optimizer (you can also try with other optimizers to feel the difference between them).\n",
        "\n",
        "`compute_loss` -- computes Reconstruction Loss between our original and decoded image.\n"
      ]
    },
    {
      "cell_type": "code",
      "metadata": {
        "id": "lwlcIWngl6_t",
        "colab_type": "code",
        "colab": {}
      },
      "source": [
        "# you could also try:\n",
        "# optimizer = tf.keras.optimizers.Adam(5e-4)\n",
        "# optimizer = tf.keras.optimizers.Adagrad(learning_rate=0.01) \n",
        "# or:\n",
        "# optimizer = tf.keras.optimizers.SGD(lr=0.01, decay=1e-6, momentum=0.9, nesterov=True(???))\n",
        "\n",
        "optimizer = tf.keras.optimizers.Adam(1e-4)\n",
        "\n",
        "# Log norm pdf (getting sample from norm dist)\n",
        "def log_normal_pdf(sample, mean, logvar, raxis=1):\n",
        "  log2pi = tf.math.log(2. * np.pi)\n",
        "  return tf.reduce_sum(\n",
        "      -.5 * ((sample - mean) ** 2. * tf.exp(-logvar) + logvar + log2pi),\n",
        "      axis=raxis)\n",
        "\n",
        "# Reconstruction loss\n",
        "@tf.function\n",
        "def compute_loss(model, x):\n",
        "# get mean and logvar\n",
        "  mean, logvar = model.encode(x)  # use model in order not to re\n",
        "  z = model.reparameterize(mean, logvar)\n",
        "  x_logit = model.decode(z)\n",
        "\n",
        "  cross_ent = tf.nn.sigmoid_cross_entropy_with_logits(logits=x_logit, labels=x)\n",
        "  logpx_z = -tf.reduce_sum(cross_ent, axis=[1, 2, 3])\n",
        "  logpz = log_normal_pdf(z, 0., 0.)\n",
        "  logqz_x = log_normal_pdf(z, mean, logvar)\n",
        "  return -tf.reduce_mean(logpx_z + logpz - logqz_x)\n",
        "\n",
        "# Countiong grads with given optimizer\n",
        "@tf.function\n",
        "def compute_apply_gradients(model, x, optimizer_):\n",
        "  with tf.GradientTape() as tape:\n",
        "    loss = compute_loss(model, x)\n",
        "  gradients = tape.gradient(loss, model.trainable_variables)\n",
        "  optimizer_.apply_gradients(zip(gradients, model.trainable_variables))"
      ],
      "execution_count": 0,
      "outputs": []
    },
    {
      "cell_type": "markdown",
      "metadata": {
        "id": "uxs93YOfwB0Y",
        "colab_type": "text"
      },
      "source": [
        "VAEs train by maximizing the evidence lower bound (ELBO) on the marginal log-likelihood:\n",
        "\n",
        "$$\\log p(x) \\ge \\text{ELBO} = \\mathbb{E}_{q(z|x)}\\left[\\log \\frac{p(x, z)}{q(z|x)}\\right].$$\n",
        "\n",
        "In practice, we optimize the single sample Monte Carlo estimate of this expectation:\n",
        "\n",
        "$$\\log p(x| z) + \\log p(z) - \\log q(z|x),$$\n",
        "where $z$ is sampled from $q(z|x)$.\n",
        "\n",
        "We will not compute the KL term, but use the MC approach."
      ]
    },
    {
      "cell_type": "code",
      "metadata": {
        "id": "E-RrbNFxl99V",
        "colab_type": "code",
        "colab": {}
      },
      "source": [
        "epochs = 100\n",
        "latent_dim = 50\n",
        "num_examples_to_generate = 16\n",
        "\n",
        "# keeping the random vector constant for generation (prediction) so\n",
        "# it will be easier to see the improvement.\n",
        "random_vector_for_generation = tf.random.normal(\n",
        "    shape=[num_examples_to_generate, latent_dim])\n",
        "model = VAE(latent_dim)"
      ],
      "execution_count": 0,
      "outputs": []
    },
    {
      "cell_type": "markdown",
      "metadata": {
        "id": "8FI0MimfgQvD",
        "colab_type": "text"
      },
      "source": [
        "The following code sample will create a sample from decoder with random sample from distribution.\n"
      ]
    },
    {
      "cell_type": "code",
      "metadata": {
        "id": "Qpo-LI7FmAmS",
        "colab_type": "code",
        "colab": {}
      },
      "source": [
        "def generate_and_save_images(model, epoch, test_input):\n",
        "  predictions = model.sample(test_input)\n",
        "  fig = plt.figure(figsize=(4,4))\n",
        "\n",
        "#   for i in range(predictions.shape[0]):\n",
        "#       plt.subplot(4, 12, i+1)\n",
        "#       plt.imshow(predictions[i], cmap='gray')\n",
        "#       plt.axis('off')\n",
        "#       plt.show() \n",
        "\n",
        "  for i in range(predictions.shape[0]):\n",
        "      plt.subplot(4, 4, i+1)\n",
        "      plt.imshow(predictions[i, :, :, 0], cmap='gray')\n",
        "      plt.axis('off')\n",
        "\n",
        "  # tight_layout minimizes the overlap between 2 sub-plots\n",
        "  plt.savefig('image_at_epoch_{:04d}.png'.format(epoch))\n",
        "  plt.show()"
      ],
      "execution_count": 0,
      "outputs": []
    },
    {
      "cell_type": "markdown",
      "metadata": {
        "id": "Jy9vbLpmfVqJ",
        "colab_type": "text"
      },
      "source": [
        "For each epoch we will count gradients with optimizer and mean for reconst loss, and get the "
      ]
    },
    {
      "cell_type": "code",
      "metadata": {
        "id": "352Dusn1mDYx",
        "colab_type": "code",
        "outputId": "4248e083-3e5b-4b3f-9fa9-e4b9d9cb2033",
        "colab": {
          "base_uri": "https://localhost:8080/",
          "height": 266
        }
      },
      "source": [
        "generate_and_save_images(model, 0, random_vector_for_generation)\n",
        "\n",
        "\n",
        "# running 100 epochs\n",
        "for epoch in range(1, epochs + 1):\n",
        "  # counting time\n",
        "  start_time = time.time()\n",
        "\n",
        "  # compute grads\n",
        "  for train_x in train_dataset:\n",
        "    compute_apply_gradients(model, train_x, optimizer)\n",
        "    # print(train_x, grad)\n",
        "  end_time = time.time()\n",
        "\n",
        "  # сounting weighted mean of our Reconst Losses \n",
        "  loss = tf.keras.metrics.Mean()\n",
        "\n",
        "  for test_x in test_dataset:\n",
        "    loss(compute_loss(model, test_x))\n",
        "  elbo = -loss.result()\n",
        "  # print(elbo)\n",
        "  display.clear_output(wait=False)\n",
        "  print('Epoch: {}, Test set ELBO: {}, '\n",
        "        'time elapse for current epoch {}'.format(epoch,\n",
        "                                                  elbo,\n",
        "                                                  end_time - start_time))\n",
        "    generate_and_save_images(\n",
        "        model, epoch, random_vector_for_generation)"
      ],
      "execution_count": 13,
      "outputs": [
        {
          "output_type": "stream",
          "text": [
            "Epoch: 100, Test set ELBO: -78.14427947998047, time elapse for current epoch 87.87407112121582\n"
          ],
          "name": "stdout"
        },
        {
          "output_type": "display_data",
          "data": {
            "image/png": "[encoded data removed]",
            "text/plain": [
              "<Figure size 288x288 with 16 Axes>"
            ]
          },
          "metadata": {
            "tags": []
          }
        }
      ]
    },
    {
      "cell_type": "markdown",
      "metadata": {
        "id": "c_ANekWvTJuV",
        "colab_type": "text"
      },
      "source": [
        "Now let's inspect our model. \n",
        "\n",
        "We will try to encode some number from dataset and then try to decode it."
      ]
    },
    {
      "cell_type": "code",
      "metadata": {
        "id": "NmuU3TwEWGAL",
        "colab_type": "code",
        "colab": {
          "base_uri": "https://localhost:8080/",
          "height": 282
        },
        "outputId": "b844faef-1dbc-4ea1-b1d8-b83b47c5d29a"
      },
      "source": [
        "sample = test_images[0]\n",
        "show_num(sample)\n",
        "sample.shape"
      ],
      "execution_count": 27,
      "outputs": [
        {
          "output_type": "display_data",
          "data": {
            "image/png": "[encoded data removed]",
            "text/plain": [
              "<Figure size 432x288 with 1 Axes>"
            ]
          },
          "metadata": {
            "tags": []
          }
        },
        {
          "output_type": "execute_result",
          "data": {
            "text/plain": [
              "(28, 28, 1)"
            ]
          },
          "metadata": {
            "tags": []
          },
          "execution_count": 27
        }
      ]
    },
    {
      "cell_type": "code",
      "metadata": {
        "id": "Ps3dCwFRdgBN",
        "colab_type": "code",
        "colab": {}
      },
      "source": [
        "def reparam_and_decode(model, mean, logvar):\n",
        "    model.reparameterize(mean, logvar)"
      ],
      "execution_count": 0,
      "outputs": []
    },
    {
      "cell_type": "code",
      "metadata": {
        "id": "_Uy4OUgZWc69",
        "colab_type": "code",
        "colab": {
          "base_uri": "https://localhost:8080/",
          "height": 1000
        },
        "outputId": "f5b2b596-f20c-4e6f-8225-3c22f8f0f968"
      },
      "source": [
        "batch = tf.data.Dataset.from_tensor_slices(train_images).shuffle(BATCH_SIZE).batch(BATCH_SIZE)\n",
        "\n",
        "# iterator = sample_dataset.make_one_shot_iterator()\n",
        "# el = iterator.get_next()\n",
        "\n",
        "iterator = tf.compat.v1.data.make_one_shot_iterator(batch)\n",
        "el = iterator.get_next()\n",
        "mean, logvar = model.encode(el)\n",
        "print(mean.shape)\n",
        "z = model.reparameterize(mean, logvar)\n",
        "debatch = model.generative_net(z.numpy())\n",
        "de_im1 = debatch.numpy()[0]\n",
        "de_im2 = debatch.numpy()[1]\n",
        "show_num(de_im1)\n",
        "show_num(de_im2)\n",
        "im1 = el.numpy()[0]\n",
        "im2 = el.numpy()[1]\n",
        "show_num(im1)\n",
        "show_num(im2)\n",
        "z1 = z.numpy()[0]\n",
        "z2 = z.numpy()[1]\n",
        "print(z1,z2)"
      ],
      "execution_count": 195,
      "outputs": [
        {
          "output_type": "stream",
          "text": [
            "(100, 50)\n"
          ],
          "name": "stdout"
        },
        {
          "output_type": "display_data",
          "data": {
            "image/png": "[encoded data removed]",
            "text/plain": [
              "<Figure size 432x288 with 1 Axes>"
            ]
          },
          "metadata": {
            "tags": []
          }
        },
        {
          "output_type": "display_data",
          "data": {
            "image/png": "[encoded data removed]",
            "text/plain": [
              "<Figure size 432x288 with 1 Axes>"
            ]
          },
          "metadata": {
            "tags": []
          }
        },
        {
          "output_type": "display_data",
          "data": {
            "image/png": "[encoded data removed]",
            "text/plain": [
              "<Figure size 432x288 with 1 Axes>"
            ]
          },
          "metadata": {
            "tags": []
          }
        },
        {
          "output_type": "display_data",
          "data": {
            "image/png": "[encoded data removed]",
            "text/plain": [
              "<Figure size 432x288 with 1 Axes>"
            ]
          },
          "metadata": {
            "tags": []
          }
        },
        {
          "output_type": "stream",
          "text": [
            "[ 1.0729237  -0.27297455 -1.1089635  -1.1617047  -0.5291097  -1.9056933\n",
            " -1.756988   -0.07232621  1.0561675   1.1905509   1.9524217  -0.2083906\n",
            "  0.0668323  -1.8458488  -0.82168645  0.7955886  -0.30425265 -1.258932\n",
            "  0.97465575 -0.24790454 -0.04766461 -0.89146936  0.4877107  -2.4468455\n",
            " -1.2177006   0.5732259  -0.10381003  0.04092159 -0.80939186  0.6323729\n",
            "  0.07389399 -2.0906887  -0.70181096 -0.47821075  1.3350972   1.4248744\n",
            " -0.64441884  0.8107734  -1.3560908   0.7595379  -0.5913695  -1.078864\n",
            "  1.682241    2.3412402   1.8519474  -2.5112815   0.27671024 -0.02218395\n",
            " -1.0123135   1.144046  ] [-1.193376   -0.22866966  0.2264108  -1.2022094   1.3075453  -0.7875304\n",
            "  0.20795664 -0.7149406  -0.901653    0.23782776 -1.1632648  -0.02395703\n",
            "  0.48705694  0.9059143  -1.2254543   0.13320577 -0.20976213 -0.7748824\n",
            " -1.9763774  -0.842216    0.50418544 -1.6818014  -0.3955982  -1.4448719\n",
            "  1.2628107   0.66051316 -1.0359397  -0.47967368  0.8925431   0.09342229\n",
            " -0.37738666  1.4156883   1.3673631  -0.7649078   1.1650331   0.55254877\n",
            "  0.26901397 -1.1918436  -0.75930524  1.4094685   0.0572423  -0.4783893\n",
            "  0.41129532  1.1238277  -0.9286683  -1.1495961   0.21244821  0.74507\n",
            " -0.5795182   0.7901203 ]\n"
          ],
          "name": "stdout"
        }
      ]
    },
    {
      "cell_type": "markdown",
      "metadata": {
        "id": "0ozj21Bbf8Dq",
        "colab_type": "text"
      },
      "source": [
        "How we can see, decoded image is such blured. \n",
        "\n",
        "Let's see, how similar im1 and im2 are. To do this, we can initialize $\\theta \\in [0;1]$ and vary it in function of $\\gamma = \\theta z_1 + (1 - \\theta) z_2,$ which is parameterized function of the segment between $z_1$ and $z_2$ in the space of this vectors.\n"
      ]
    },
    {
      "cell_type": "code",
      "metadata": {
        "id": "6lFm2Bw0f6mm",
        "colab_type": "code",
        "colab": {
          "base_uri": "https://localhost:8080/",
          "height": 265
        },
        "outputId": "fcecdd09-acfc-445b-98e8-b8551ca9cbea"
      },
      "source": [
        "def make_video(arr, i):\n",
        "    # show_num(arr)\n",
        "    # time.sleep(0.5)\n",
        "    img = arr.reshape((28,28))\n",
        "    plt.imshow(img, cmap=\"Greys\")\n",
        "    plt.savefig('capture_of_evol_{}.png'.format(i))\n",
        "    display.clear_output(wait=False)\n",
        "\n",
        "thetas = np.linspace(0., 1., num=99)\n",
        "new_z = [z2]\n",
        "# new_z = pd.DataFrame(z1)\n",
        "\n",
        "# i = 1\n",
        "# for theta in thetas:\n",
        "#     new_z['{}'.format(i)] = z1*theta + (1-theta)*z2\n",
        "#     i += 1\n",
        "# zs = new_z.to_numpy()\n",
        "for theta in thetas:\n",
        "    new_z.append(z1*theta + (1-theta)*z2)\n",
        "\n",
        "# batch_1 = tf.data.Dataset.from_tensor_slices(train_images).shuffle(BATCH_SIZE).batch(BATCH_SIZE)\n",
        "new_z = np.array(new_z)\n",
        "new_z.shape\n",
        "\n",
        "deb = model.generative_net(new_z)\n",
        "deb_np = deb.numpy()\n",
        "for i in range(0,100):\n",
        "    make_video(deb_np[i], i)\n",
        "    \n",
        "# debatch = model.generative_net(zs)"
      ],
      "execution_count": 196,
      "outputs": [
        {
          "output_type": "display_data",
          "data": {
            "image/png": "[encoded data removed]",
            "text/plain": [
              "<Figure size 432x288 with 1 Axes>"
            ]
          },
          "metadata": {
            "tags": []
          }
        }
      ]
    },
    {
      "cell_type": "code",
      "metadata": {
        "id": "KzvyCyI02O-S",
        "colab_type": "code",
        "colab": {}
      },
      "source": [
        "import imageio\n",
        "def make_gif():\n",
        "    images = []\n",
        "    filenames = ['capture_of_evol_{}.png'.format(i) for i in range(0,100,4)]\n",
        "    for filename in filenames:\n",
        "        images.append(imageio.imread(filename))\n",
        "    imageio.mimsave('movie.gif', images)\n",
        "make_gif()"
      ],
      "execution_count": 0,
      "outputs": []
    },
    {
      "cell_type": "markdown",
      "metadata": {
        "id": "9YdaTpj3wax6",
        "colab_type": "text"
      },
      "source": [
        "# Conclusion.\n",
        "\n",
        "I've trained simple Neural Network based on Bayes approach, or simply called VAE. \n",
        "\n",
        "It shows good results for MNIST on simple CNN net.\n",
        "\n",
        "We realized the model to do many interesting things from creating similar objects to the original, to checking the similarity between two objects.\n",
        "\n",
        "In the future, I plan to supplement this work with some improvements, including the study of various divergences instead of KL-divergence. Also, it is interestings to see what happens if two vectors are connected not by a segment but by some curved line when we try to inspect similarity between two vectors.\n",
        "\n",
        "The training did not last long, but with the reparametrization trick it accelerated several times.\n",
        "\n",
        "\n",
        "\n"
      ]
    }
  ]
}